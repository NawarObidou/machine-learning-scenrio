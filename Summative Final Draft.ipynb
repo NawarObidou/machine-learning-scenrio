{
 "cells": [
  {
   "cell_type": "markdown",
   "id": "08cfffeb",
   "metadata": {},
   "source": [
    "# BS3208 Summative Code"
   ]
  },
  {
   "cell_type": "markdown",
   "id": "321198f9",
   "metadata": {},
   "source": [
    "# Section D"
   ]
  },
  {
   "cell_type": "code",
   "execution_count": 490,
   "id": "4c125a84",
   "metadata": {},
   "outputs": [
    {
     "data": {
      "text/html": [
       "<div>\n",
       "<style scoped>\n",
       "    .dataframe tbody tr th:only-of-type {\n",
       "        vertical-align: middle;\n",
       "    }\n",
       "\n",
       "    .dataframe tbody tr th {\n",
       "        vertical-align: top;\n",
       "    }\n",
       "\n",
       "    .dataframe thead th {\n",
       "        text-align: right;\n",
       "    }\n",
       "</style>\n",
       "<table border=\"1\" class=\"dataframe\">\n",
       "  <thead>\n",
       "    <tr style=\"text-align: right;\">\n",
       "      <th></th>\n",
       "      <th>#</th>\n",
       "      <th>Name</th>\n",
       "      <th>Type 1</th>\n",
       "      <th>Type 2</th>\n",
       "      <th>Total</th>\n",
       "      <th>HP</th>\n",
       "      <th>Attack</th>\n",
       "      <th>Defense</th>\n",
       "      <th>Sp. Atk</th>\n",
       "      <th>Sp. Def</th>\n",
       "      <th>Speed</th>\n",
       "      <th>Generation</th>\n",
       "      <th>Legendary</th>\n",
       "    </tr>\n",
       "  </thead>\n",
       "  <tbody>\n",
       "    <tr>\n",
       "      <th>0</th>\n",
       "      <td>1</td>\n",
       "      <td>Bulbasaur</td>\n",
       "      <td>Grass</td>\n",
       "      <td>Poison</td>\n",
       "      <td>318</td>\n",
       "      <td>45</td>\n",
       "      <td>49</td>\n",
       "      <td>49</td>\n",
       "      <td>65</td>\n",
       "      <td>65</td>\n",
       "      <td>45</td>\n",
       "      <td>1</td>\n",
       "      <td>False</td>\n",
       "    </tr>\n",
       "    <tr>\n",
       "      <th>1</th>\n",
       "      <td>2</td>\n",
       "      <td>Ivysaur</td>\n",
       "      <td>Grass</td>\n",
       "      <td>Poison</td>\n",
       "      <td>405</td>\n",
       "      <td>60</td>\n",
       "      <td>62</td>\n",
       "      <td>63</td>\n",
       "      <td>80</td>\n",
       "      <td>80</td>\n",
       "      <td>60</td>\n",
       "      <td>1</td>\n",
       "      <td>False</td>\n",
       "    </tr>\n",
       "    <tr>\n",
       "      <th>2</th>\n",
       "      <td>3</td>\n",
       "      <td>Venusaur</td>\n",
       "      <td>Grass</td>\n",
       "      <td>Poison</td>\n",
       "      <td>525</td>\n",
       "      <td>80</td>\n",
       "      <td>82</td>\n",
       "      <td>83</td>\n",
       "      <td>100</td>\n",
       "      <td>100</td>\n",
       "      <td>80</td>\n",
       "      <td>1</td>\n",
       "      <td>False</td>\n",
       "    </tr>\n",
       "    <tr>\n",
       "      <th>3</th>\n",
       "      <td>3</td>\n",
       "      <td>VenusaurMega Venusaur</td>\n",
       "      <td>Grass</td>\n",
       "      <td>Poison</td>\n",
       "      <td>625</td>\n",
       "      <td>80</td>\n",
       "      <td>100</td>\n",
       "      <td>123</td>\n",
       "      <td>122</td>\n",
       "      <td>120</td>\n",
       "      <td>80</td>\n",
       "      <td>1</td>\n",
       "      <td>False</td>\n",
       "    </tr>\n",
       "    <tr>\n",
       "      <th>4</th>\n",
       "      <td>4</td>\n",
       "      <td>Charmander</td>\n",
       "      <td>Fire</td>\n",
       "      <td>NaN</td>\n",
       "      <td>309</td>\n",
       "      <td>39</td>\n",
       "      <td>52</td>\n",
       "      <td>43</td>\n",
       "      <td>60</td>\n",
       "      <td>50</td>\n",
       "      <td>65</td>\n",
       "      <td>1</td>\n",
       "      <td>False</td>\n",
       "    </tr>\n",
       "    <tr>\n",
       "      <th>...</th>\n",
       "      <td>...</td>\n",
       "      <td>...</td>\n",
       "      <td>...</td>\n",
       "      <td>...</td>\n",
       "      <td>...</td>\n",
       "      <td>...</td>\n",
       "      <td>...</td>\n",
       "      <td>...</td>\n",
       "      <td>...</td>\n",
       "      <td>...</td>\n",
       "      <td>...</td>\n",
       "      <td>...</td>\n",
       "      <td>...</td>\n",
       "    </tr>\n",
       "    <tr>\n",
       "      <th>795</th>\n",
       "      <td>719</td>\n",
       "      <td>Diancie</td>\n",
       "      <td>Rock</td>\n",
       "      <td>Fairy</td>\n",
       "      <td>600</td>\n",
       "      <td>50</td>\n",
       "      <td>100</td>\n",
       "      <td>150</td>\n",
       "      <td>100</td>\n",
       "      <td>150</td>\n",
       "      <td>50</td>\n",
       "      <td>6</td>\n",
       "      <td>True</td>\n",
       "    </tr>\n",
       "    <tr>\n",
       "      <th>796</th>\n",
       "      <td>719</td>\n",
       "      <td>DiancieMega Diancie</td>\n",
       "      <td>Rock</td>\n",
       "      <td>Fairy</td>\n",
       "      <td>700</td>\n",
       "      <td>50</td>\n",
       "      <td>160</td>\n",
       "      <td>110</td>\n",
       "      <td>160</td>\n",
       "      <td>110</td>\n",
       "      <td>110</td>\n",
       "      <td>6</td>\n",
       "      <td>True</td>\n",
       "    </tr>\n",
       "    <tr>\n",
       "      <th>797</th>\n",
       "      <td>720</td>\n",
       "      <td>HoopaHoopa Confined</td>\n",
       "      <td>Psychic</td>\n",
       "      <td>Ghost</td>\n",
       "      <td>600</td>\n",
       "      <td>80</td>\n",
       "      <td>110</td>\n",
       "      <td>60</td>\n",
       "      <td>150</td>\n",
       "      <td>130</td>\n",
       "      <td>70</td>\n",
       "      <td>6</td>\n",
       "      <td>True</td>\n",
       "    </tr>\n",
       "    <tr>\n",
       "      <th>798</th>\n",
       "      <td>720</td>\n",
       "      <td>HoopaHoopa Unbound</td>\n",
       "      <td>Psychic</td>\n",
       "      <td>Dark</td>\n",
       "      <td>680</td>\n",
       "      <td>80</td>\n",
       "      <td>160</td>\n",
       "      <td>60</td>\n",
       "      <td>170</td>\n",
       "      <td>130</td>\n",
       "      <td>80</td>\n",
       "      <td>6</td>\n",
       "      <td>True</td>\n",
       "    </tr>\n",
       "    <tr>\n",
       "      <th>799</th>\n",
       "      <td>721</td>\n",
       "      <td>Volcanion</td>\n",
       "      <td>Fire</td>\n",
       "      <td>Water</td>\n",
       "      <td>600</td>\n",
       "      <td>80</td>\n",
       "      <td>110</td>\n",
       "      <td>120</td>\n",
       "      <td>130</td>\n",
       "      <td>90</td>\n",
       "      <td>70</td>\n",
       "      <td>6</td>\n",
       "      <td>True</td>\n",
       "    </tr>\n",
       "  </tbody>\n",
       "</table>\n",
       "<p>800 rows × 13 columns</p>\n",
       "</div>"
      ],
      "text/plain": [
       "       #                   Name   Type 1  Type 2  Total  HP  Attack  Defense  \\\n",
       "0      1              Bulbasaur    Grass  Poison    318  45      49       49   \n",
       "1      2                Ivysaur    Grass  Poison    405  60      62       63   \n",
       "2      3               Venusaur    Grass  Poison    525  80      82       83   \n",
       "3      3  VenusaurMega Venusaur    Grass  Poison    625  80     100      123   \n",
       "4      4             Charmander     Fire     NaN    309  39      52       43   \n",
       "..   ...                    ...      ...     ...    ...  ..     ...      ...   \n",
       "795  719                Diancie     Rock   Fairy    600  50     100      150   \n",
       "796  719    DiancieMega Diancie     Rock   Fairy    700  50     160      110   \n",
       "797  720    HoopaHoopa Confined  Psychic   Ghost    600  80     110       60   \n",
       "798  720     HoopaHoopa Unbound  Psychic    Dark    680  80     160       60   \n",
       "799  721              Volcanion     Fire   Water    600  80     110      120   \n",
       "\n",
       "     Sp. Atk  Sp. Def  Speed  Generation  Legendary  \n",
       "0         65       65     45           1      False  \n",
       "1         80       80     60           1      False  \n",
       "2        100      100     80           1      False  \n",
       "3        122      120     80           1      False  \n",
       "4         60       50     65           1      False  \n",
       "..       ...      ...    ...         ...        ...  \n",
       "795      100      150     50           6       True  \n",
       "796      160      110    110           6       True  \n",
       "797      150      130     70           6       True  \n",
       "798      170      130     80           6       True  \n",
       "799      130       90     70           6       True  \n",
       "\n",
       "[800 rows x 13 columns]"
      ]
     },
     "execution_count": 490,
     "metadata": {},
     "output_type": "execute_result"
    }
   ],
   "source": [
    "# some parts of this notebook have been inspired by a notebook found on the following url: \n",
    "#https://winchester.instructure.com/courses/15555/files/2199499/download?download_frd=1\n",
    "\n",
    "import pandas as pd\n",
    "pks = pd.read_csv('pokemon.csv') \n",
    "#pks: pokemon with stats\n",
    "\n",
    "pks"
   ]
  },
  {
   "cell_type": "code",
   "execution_count": 491,
   "id": "c4015d96",
   "metadata": {},
   "outputs": [
    {
     "name": "stderr",
     "output_type": "stream",
     "text": [
      "C:\\Users\\Obaid\\anaconda3\\lib\\site-packages\\ipykernel\\ipkernel.py:287: DeprecationWarning: `should_run_async` will not call `transform_cell` automatically in the future. Please pass the result to `transformed_cell` argument and any exception that happen during thetransform in `preprocessing_exc_tuple` in IPython 7.17 and above.\n",
      "  and should_run_async(code)\n"
     ]
    },
    {
     "data": {
      "text/html": [
       "<div>\n",
       "<style scoped>\n",
       "    .dataframe tbody tr th:only-of-type {\n",
       "        vertical-align: middle;\n",
       "    }\n",
       "\n",
       "    .dataframe tbody tr th {\n",
       "        vertical-align: top;\n",
       "    }\n",
       "\n",
       "    .dataframe thead th {\n",
       "        text-align: right;\n",
       "    }\n",
       "</style>\n",
       "<table border=\"1\" class=\"dataframe\">\n",
       "  <thead>\n",
       "    <tr style=\"text-align: right;\">\n",
       "      <th></th>\n",
       "      <th>Total</th>\n",
       "      <th>HP</th>\n",
       "      <th>Attack</th>\n",
       "    </tr>\n",
       "  </thead>\n",
       "  <tbody>\n",
       "    <tr>\n",
       "      <th>0</th>\n",
       "      <td>318</td>\n",
       "      <td>45</td>\n",
       "      <td>49</td>\n",
       "    </tr>\n",
       "    <tr>\n",
       "      <th>1</th>\n",
       "      <td>405</td>\n",
       "      <td>60</td>\n",
       "      <td>62</td>\n",
       "    </tr>\n",
       "    <tr>\n",
       "      <th>2</th>\n",
       "      <td>525</td>\n",
       "      <td>80</td>\n",
       "      <td>82</td>\n",
       "    </tr>\n",
       "    <tr>\n",
       "      <th>3</th>\n",
       "      <td>625</td>\n",
       "      <td>80</td>\n",
       "      <td>100</td>\n",
       "    </tr>\n",
       "    <tr>\n",
       "      <th>4</th>\n",
       "      <td>309</td>\n",
       "      <td>39</td>\n",
       "      <td>52</td>\n",
       "    </tr>\n",
       "    <tr>\n",
       "      <th>...</th>\n",
       "      <td>...</td>\n",
       "      <td>...</td>\n",
       "      <td>...</td>\n",
       "    </tr>\n",
       "    <tr>\n",
       "      <th>795</th>\n",
       "      <td>600</td>\n",
       "      <td>50</td>\n",
       "      <td>100</td>\n",
       "    </tr>\n",
       "    <tr>\n",
       "      <th>796</th>\n",
       "      <td>700</td>\n",
       "      <td>50</td>\n",
       "      <td>160</td>\n",
       "    </tr>\n",
       "    <tr>\n",
       "      <th>797</th>\n",
       "      <td>600</td>\n",
       "      <td>80</td>\n",
       "      <td>110</td>\n",
       "    </tr>\n",
       "    <tr>\n",
       "      <th>798</th>\n",
       "      <td>680</td>\n",
       "      <td>80</td>\n",
       "      <td>160</td>\n",
       "    </tr>\n",
       "    <tr>\n",
       "      <th>799</th>\n",
       "      <td>600</td>\n",
       "      <td>80</td>\n",
       "      <td>110</td>\n",
       "    </tr>\n",
       "  </tbody>\n",
       "</table>\n",
       "<p>800 rows × 3 columns</p>\n",
       "</div>"
      ],
      "text/plain": [
       "     Total  HP  Attack\n",
       "0      318  45      49\n",
       "1      405  60      62\n",
       "2      525  80      82\n",
       "3      625  80     100\n",
       "4      309  39      52\n",
       "..     ...  ..     ...\n",
       "795    600  50     100\n",
       "796    700  50     160\n",
       "797    600  80     110\n",
       "798    680  80     160\n",
       "799    600  80     110\n",
       "\n",
       "[800 rows x 3 columns]"
      ]
     },
     "execution_count": 491,
     "metadata": {},
     "output_type": "execute_result"
    }
   ],
   "source": [
    "# predicting a Pokemon's total stats based on its HP and attack\n",
    "# first we need to extract the desired column(s)\n",
    "\n",
    "pks_subset = pks[[\"Total\",\"HP\", \"Attack\"]]\n",
    "\n",
    "pks_subset"
   ]
  },
  {
   "cell_type": "code",
   "execution_count": 492,
   "id": "6f0b6f2d",
   "metadata": {},
   "outputs": [
    {
     "name": "stderr",
     "output_type": "stream",
     "text": [
      "C:\\Users\\Obaid\\anaconda3\\lib\\site-packages\\ipykernel\\ipkernel.py:287: DeprecationWarning: `should_run_async` will not call `transform_cell` automatically in the future. Please pass the result to `transformed_cell` argument and any exception that happen during thetransform in `preprocessing_exc_tuple` in IPython 7.17 and above.\n",
      "  and should_run_async(code)\n"
     ]
    }
   ],
   "source": [
    "#this function splits the subset into a training set and a test set\n",
    "# the size of the test set is determined by (test_size=x) \n",
    "\n",
    "from sklearn.model_selection import train_test_split\n",
    "\n",
    "train, test = train_test_split(pks_subset, test_size=0.2)"
   ]
  },
  {
   "cell_type": "markdown",
   "id": "02188adb",
   "metadata": {},
   "source": [
    "# Section E"
   ]
  },
  {
   "cell_type": "code",
   "execution_count": 493,
   "id": "9d0f315f",
   "metadata": {},
   "outputs": [],
   "source": [
    "# import the seaborn library as it will help with visualising some graphs' slopes\n",
    "import seaborn as sns"
   ]
  },
  {
   "cell_type": "code",
   "execution_count": 494,
   "id": "c64e9346",
   "metadata": {},
   "outputs": [
    {
     "data": {
      "text/plain": [
       "<AxesSubplot:xlabel='HP', ylabel='Total'>"
      ]
     },
     "execution_count": 494,
     "metadata": {},
     "output_type": "execute_result"
    },
    {
     "data": {
      "image/png": "[encoded data removed]",
      "text/plain": [
       "<Figure size 432x288 with 1 Axes>"
      ]
     },
     "metadata": {
      "needs_background": "light"
     },
     "output_type": "display_data"
    }
   ],
   "source": [
    "# the relation between HP and total\n",
    "\n",
    "pks.plot(kind='scatter', x = \"HP\", y= \"Total\")"
   ]
  },
  {
   "cell_type": "code",
   "execution_count": 495,
   "id": "d6297d78",
   "metadata": {},
   "outputs": [
    {
     "data": {
      "text/plain": [
       "<AxesSubplot:xlabel='Attack', ylabel='Total'>"
      ]
     },
     "execution_count": 495,
     "metadata": {},
     "output_type": "execute_result"
    },
    {
     "data": {
      "image/png": "[encoded data removed]",
      "text/plain": [
       "<Figure size 432x288 with 1 Axes>"
      ]
     },
     "metadata": {
      "needs_background": "light"
     },
     "output_type": "display_data"
    }
   ],
   "source": [
    "# the relation between Attack and total\n",
    "\n",
    "pks.plot(kind='scatter', x = \"Attack\", y= \"Total\", xlim=(0, 250))"
   ]
  },
  {
   "cell_type": "code",
   "execution_count": 496,
   "id": "79c0f04d",
   "metadata": {},
   "outputs": [
    {
     "data": {
      "image/png": "[encoded data removed]",
      "text/plain": [
       "<Figure size 360x360 with 1 Axes>"
      ]
     },
     "metadata": {
      "needs_background": "light"
     },
     "output_type": "display_data"
    }
   ],
   "source": [
    "grid = sns.lmplot(x=\"Attack\", y=\"Total\", data=pks_subset)\n",
    "\n",
    "grid.set(xlim=(0, 250), ylim=(0, 800))\n",
    "\n",
    "plt.show()"
   ]
  },
  {
   "cell_type": "code",
   "execution_count": 497,
   "id": "8669f824",
   "metadata": {},
   "outputs": [
    {
     "name": "stderr",
     "output_type": "stream",
     "text": [
      "C:\\Users\\Obaid\\anaconda3\\lib\\site-packages\\ipykernel\\ipkernel.py:287: DeprecationWarning: `should_run_async` will not call `transform_cell` automatically in the future. Please pass the result to `transformed_cell` argument and any exception that happen during thetransform in `preprocessing_exc_tuple` in IPython 7.17 and above.\n",
      "  and should_run_async(code)\n"
     ]
    },
    {
     "data": {
      "image/png": "[encoded data removed]",
      "text/plain": [
       "<Figure size 360x360 with 1 Axes>"
      ]
     },
     "metadata": {
      "needs_background": "light"
     },
     "output_type": "display_data"
    }
   ],
   "source": [
    "grid = sns.lmplot(x=\"HP\", y=\"Total\", data=pks_subset)\n",
    "grid.set(xlim=(0, 250), ylim=(0, 800))\n",
    "\n",
    "plt.show()"
   ]
  },
  {
   "cell_type": "code",
   "execution_count": 498,
   "id": "9337d2da",
   "metadata": {},
   "outputs": [
    {
     "name": "stderr",
     "output_type": "stream",
     "text": [
      "C:\\Users\\Obaid\\anaconda3\\lib\\site-packages\\ipykernel\\ipkernel.py:287: DeprecationWarning: `should_run_async` will not call `transform_cell` automatically in the future. Please pass the result to `transformed_cell` argument and any exception that happen during thetransform in `preprocessing_exc_tuple` in IPython 7.17 and above.\n",
      "  and should_run_async(code)\n"
     ]
    },
    {
     "data": {
      "image/png": "[encoded data removed]",
      "text/plain": [
       "<Figure size 360x360 with 1 Axes>"
      ]
     },
     "metadata": {
      "needs_background": "light"
     },
     "output_type": "display_data"
    }
   ],
   "source": [
    "grid = sns.lmplot(x=\"HP\", y=\"Attack\", data=pks)\n",
    "grid.set(xlim=(0, 250), ylim=(0, 300))\n",
    "\n",
    "plt.show()"
   ]
  },
  {
   "cell_type": "code",
   "execution_count": 499,
   "id": "6d15bd6c",
   "metadata": {},
   "outputs": [
    {
     "name": "stderr",
     "output_type": "stream",
     "text": [
      "C:\\Users\\Obaid\\anaconda3\\lib\\site-packages\\ipykernel\\ipkernel.py:287: DeprecationWarning: `should_run_async` will not call `transform_cell` automatically in the future. Please pass the result to `transformed_cell` argument and any exception that happen during thetransform in `preprocessing_exc_tuple` in IPython 7.17 and above.\n",
      "  and should_run_async(code)\n"
     ]
    },
    {
     "data": {
      "image/png": "[encoded data removed]",
      "text/plain": [
       "<Figure size 360x360 with 1 Axes>"
      ]
     },
     "metadata": {
      "needs_background": "light"
     },
     "output_type": "display_data"
    }
   ],
   "source": [
    "grid = sns.lmplot(x=\"Sp. Atk\", y=\"Defense\", data=pks)\n",
    "grid.set(xlim=(0, 250), ylim=(0, 300))\n",
    "\n",
    "plt.show()"
   ]
  },
  {
   "cell_type": "code",
   "execution_count": 500,
   "id": "754c4b9e",
   "metadata": {},
   "outputs": [
    {
     "name": "stderr",
     "output_type": "stream",
     "text": [
      "C:\\Users\\Obaid\\anaconda3\\lib\\site-packages\\ipykernel\\ipkernel.py:287: DeprecationWarning: `should_run_async` will not call `transform_cell` automatically in the future. Please pass the result to `transformed_cell` argument and any exception that happen during thetransform in `preprocessing_exc_tuple` in IPython 7.17 and above.\n",
      "  and should_run_async(code)\n"
     ]
    },
    {
     "data": {
      "image/png": "[encoded data removed]",
      "text/plain": [
       "<Figure size 432x288 with 1 Axes>"
      ]
     },
     "metadata": {
      "needs_background": "light"
     },
     "output_type": "display_data"
    }
   ],
   "source": [
    "# code modified from https://stackoverflow.com/questions/1985856/how-to-make-a-3d-scatter-plot-in-matplotlib \n",
    "\n",
    "from mpl_toolkits import mplot3d\n",
    "import numpy as np\n",
    "import matplotlib.pyplot as plt\n",
    "fig = plt.figure()\n",
    "ax = plt.axes(projection='3d')\n",
    "ax = plt.axes(projection='3d')\n",
    "zdata = pks[\"HP\"]\n",
    "xdata = pks[\"Attack\"]\n",
    "ydata = pks[\"Total\"]\n",
    "ax.scatter3D(xdata, ydata, zdata);\n",
    "\n",
    "ax.set_xlabel('Attack')\n",
    "ax.set_ylabel('Total')\n",
    "ax.set_zlabel('HP')\n",
    "\n",
    "ax.view_init(elev=2, azim=60)\n",
    "ax.view_init(elev=2, azim=90)\n",
    "ax.view_init(elev=8, azim=30)"
   ]
  },
  {
   "cell_type": "markdown",
   "id": "47828fbc",
   "metadata": {},
   "source": [
    "# Section G"
   ]
  },
  {
   "cell_type": "code",
   "execution_count": 501,
   "id": "7b51820d",
   "metadata": {},
   "outputs": [
    {
     "data": {
      "text/plain": [
       "(160, 3)"
      ]
     },
     "execution_count": 501,
     "metadata": {},
     "output_type": "execute_result"
    }
   ],
   "source": [
    "# total, HP and attack values only\n",
    "\n",
    "test.shape"
   ]
  },
  {
   "cell_type": "code",
   "execution_count": 502,
   "id": "cb60f8c9",
   "metadata": {},
   "outputs": [
    {
     "data": {
      "text/plain": [
       "(640, 3)"
      ]
     },
     "execution_count": 502,
     "metadata": {},
     "output_type": "execute_result"
    }
   ],
   "source": [
    "train.shape"
   ]
  },
  {
   "cell_type": "code",
   "execution_count": 503,
   "id": "81f66298",
   "metadata": {},
   "outputs": [],
   "source": [
    "# we tell train_X to extract every row other than the first one, and train_y to only extract the first row \n",
    "\n",
    "\n",
    "train_X = train.iloc[:, 1:3].values\n",
    "train_y = train.iloc[:, 0].values\n",
    "\n",
    "test_X = test.iloc[:, 1:3].values\n",
    "test_y = test.iloc[:, 0].values"
   ]
  },
  {
   "cell_type": "code",
   "execution_count": 504,
   "id": "2bc90068",
   "metadata": {},
   "outputs": [
    {
     "data": {
      "text/plain": [
       "(640, 2)"
      ]
     },
     "execution_count": 504,
     "metadata": {},
     "output_type": "execute_result"
    }
   ],
   "source": [
    "train_X.shape"
   ]
  },
  {
   "cell_type": "code",
   "execution_count": 505,
   "id": "55450231",
   "metadata": {},
   "outputs": [
    {
     "data": {
      "text/plain": [
       "(640,)"
      ]
     },
     "execution_count": 505,
     "metadata": {},
     "output_type": "execute_result"
    }
   ],
   "source": [
    "train_y.shape"
   ]
  },
  {
   "cell_type": "code",
   "execution_count": 506,
   "id": "1d079753",
   "metadata": {
    "scrolled": true
   },
   "outputs": [
    {
     "data": {
      "text/plain": [
       "(160, 2)"
      ]
     },
     "execution_count": 506,
     "metadata": {},
     "output_type": "execute_result"
    }
   ],
   "source": [
    "test_X.shape"
   ]
  },
  {
   "cell_type": "code",
   "execution_count": 507,
   "id": "5fa46a6a",
   "metadata": {},
   "outputs": [
    {
     "data": {
      "text/plain": [
       "(160,)"
      ]
     },
     "execution_count": 507,
     "metadata": {},
     "output_type": "execute_result"
    }
   ],
   "source": [
    "test_y.shape"
   ]
  },
  {
   "cell_type": "code",
   "execution_count": 508,
   "id": "085d801b",
   "metadata": {},
   "outputs": [],
   "source": [
    "# model choice explained in report\n",
    "\n",
    "from sklearn.linear_model import LinearRegression\n",
    "\n",
    "regModel = LinearRegression()"
   ]
  },
  {
   "cell_type": "code",
   "execution_count": 509,
   "id": "dc312db9",
   "metadata": {},
   "outputs": [
    {
     "data": {
      "text/plain": [
       "LinearRegression()"
      ]
     },
     "execution_count": 509,
     "metadata": {},
     "output_type": "execute_result"
    }
   ],
   "source": [
    "regModel.fit(train_X,train_y)"
   ]
  },
  {
   "cell_type": "code",
   "execution_count": 510,
   "id": "c9562d7e",
   "metadata": {},
   "outputs": [
    {
     "name": "stderr",
     "output_type": "stream",
     "text": [
      "C:\\Users\\Obaid\\anaconda3\\lib\\site-packages\\ipykernel\\ipkernel.py:287: DeprecationWarning: `should_run_async` will not call `transform_cell` automatically in the future. Please pass the result to `transformed_cell` argument and any exception that happen during thetransform in `preprocessing_exc_tuple` in IPython 7.17 and above.\n",
      "  and should_run_async(code)\n"
     ]
    }
   ],
   "source": [
    "testSetPredictions = regModel.predict(test_X)"
   ]
  },
  {
   "cell_type": "code",
   "execution_count": 511,
   "id": "a3d2afb3",
   "metadata": {},
   "outputs": [
    {
     "name": "stderr",
     "output_type": "stream",
     "text": [
      "C:\\Users\\Obaid\\anaconda3\\lib\\site-packages\\ipykernel\\ipkernel.py:287: DeprecationWarning: `should_run_async` will not call `transform_cell` automatically in the future. Please pass the result to `transformed_cell` argument and any exception that happen during thetransform in `preprocessing_exc_tuple` in IPython 7.17 and above.\n",
      "  and should_run_async(code)\n"
     ]
    },
    {
     "data": {
      "text/plain": [
       "(160, 2)"
      ]
     },
     "execution_count": 511,
     "metadata": {},
     "output_type": "execute_result"
    }
   ],
   "source": [
    "test_X.shape"
   ]
  },
  {
   "cell_type": "code",
   "execution_count": 512,
   "id": "a8edd0ee",
   "metadata": {},
   "outputs": [
    {
     "name": "stdout",
     "output_type": "stream",
     "text": [
      "Predicted total stats: [399.85690393 417.62739196 437.86484861 576.10932138 475.97950988\n",
      " 370.62748668 489.07245975 372.18666606 559.06506475 372.18666606\n",
      " 329.86429893 280.39742502 280.39742502 546.15367273 354.03171902\n",
      " 312.27536875 447.58304061 395.36092363 289.66712805 333.52733124\n",
      " 539.47899824 416.24977042 366.80423983 485.83657309 460.13131694\n",
      " 387.6717433  478.30760729 480.47549018 471.77180402 380.89035222\n",
      " 463.9759071  344.15331249 610.09111805 423.3942772  432.09796336\n",
      " 357.71609465 432.09796336 591.71192652 415.29929454 666.52094089\n",
      " 735.3174822  450.11403919 524.90171024 300.29310929 357.71609465\n",
      " 528.7463004  468.8350031  336.46413216 336.46413216 533.6053964\n",
      " 567.58719307 381.90485806 395.60651144 386.90282527 444.64623969\n",
      " 561.03004647 451.42763077 463.9759071  546.90124744 233.03440404\n",
      " 367.43428665 384.19026884 498.79065175 503.42550327 578.93940571\n",
      " 426.33107812 543.21687181 418.96232685 333.52733124 481.38327942\n",
      " 565.30178229 332.43798415 505.34779835 366.41978082 496.46255433\n",
      " 431.19017412 340.30872233 527.59292336 492.00926067 444.64623969\n",
      " 484.72588268 203.07875539 543.21687181 361.19756912 329.47983991\n",
      " 419.54968704 503.80996228 437.86484861 359.63838973 377.83602341\n",
      " 627.31693252 372.18666606 361.26159907 288.49240768 511.44564467\n",
      " 435.94255353 393.43862855 432.09796336 417.62739196 413.76145848\n",
      " 393.43862855 616.03956114 359.2325874  335.44962633 555.76514814\n",
      " 644.72430485 378.96805714 336.44278884 346.68431107 359.63838973\n",
      " 493.02376651 419.54968704 403.51993625 285.61963672 213.70473663\n",
      " 456.28672677 593.6234103  392.53083931 514.275729   266.83464286\n",
      " 344.55911482 264.54923208 518.12031916 387.0630398  333.93313358\n",
      " 528.92785825 484.32008034 523.8872044  435.94255353 285.25652102\n",
      " 573.17252046 450.51984153 566.39112938 431.19017412 336.64569001\n",
      " 448.59754645 498.79065175 400.22001963 337.39326473 479.46098434\n",
      " 385.74944822 558.70194906 508.50884375 402.14231471 575.09481555\n",
      " 375.66814052 386.65723747 363.4829799  289.10111118 505.57204283\n",
      " 398.29772455 587.64309187 418.39630999 511.33892808 536.43548073\n",
      " 502.63524191 594.42448295 320.97905492 354.77929373 366.41978082]\n",
      "Actual total stats: [237 535 525 680 465 309 455 520 634 520 305 220 270 490 288 245 455 325\n",
      " 237 270 435 470 240 498 420 395 500 580 490 440 520 250 600 494 405 480\n",
      " 438 540 400 495 780 483 528 299 430 474 600 325 295 450 600 470 490 431\n",
      " 390 519 490 485 521 310 210 349 405 630 565 490 580 405 245 410 680 292\n",
      " 495 455 500 330 300 530 390 430 600 200 495 369 318 430 634 290 380 466\n",
      " 505 314 260 350 525 600 348 430 420 460 300 618 360 288 495 535 280 330\n",
      " 316 308 430 494 518 330 200 480 470 580 520 205 320 194 530 292 319 580\n",
      " 580 510 525 250 600 525 560 410 371 480 700 515 314 540 365 450 530 280\n",
      " 567 300 300 263 290 610 385 600 330 590 465 530 700 195 330 425]\n"
     ]
    }
   ],
   "source": [
    "print(\"Predicted total stats: \" + str(testSetPredictions))\n",
    "print(\"Actual total stats: \" + str(test_y))"
   ]
  },
  {
   "cell_type": "code",
   "execution_count": 513,
   "id": "8a3bc442",
   "metadata": {},
   "outputs": [
    {
     "name": "stdout",
     "output_type": "stream",
     "text": [
      "Mean squared error: 75.00\n",
      "Coefficient of determination: 0.64\n"
     ]
    }
   ],
   "source": [
    "from sklearn.metrics import mean_squared_error, r2_score\n",
    "\n",
    "print('Mean squared error: %.2f'\n",
    "      % (mean_squared_error(test_y, testSetPredictions))**0.5)\n",
    "# (x ** 0.5 = sqrtx) square root of the mean squared error, reasoning in the report. \n",
    "\n",
    "print('Coefficient of determination: %.2f'\n",
    "      % r2_score(test_y, testSetPredictions))"
   ]
  },
  {
   "cell_type": "markdown",
   "id": "ebe186b6",
   "metadata": {},
   "source": [
    "# An attempt at improving the prediction by increasing the input dimensions"
   ]
  },
  {
   "cell_type": "code",
   "execution_count": 514,
   "id": "d8cfb293",
   "metadata": {},
   "outputs": [
    {
     "name": "stderr",
     "output_type": "stream",
     "text": [
      "C:\\Users\\Obaid\\anaconda3\\lib\\site-packages\\ipykernel\\ipkernel.py:287: DeprecationWarning: `should_run_async` will not call `transform_cell` automatically in the future. Please pass the result to `transformed_cell` argument and any exception that happen during thetransform in `preprocessing_exc_tuple` in IPython 7.17 and above.\n",
      "  and should_run_async(code)\n"
     ]
    },
    {
     "data": {
      "text/html": [
       "<div>\n",
       "<style scoped>\n",
       "    .dataframe tbody tr th:only-of-type {\n",
       "        vertical-align: middle;\n",
       "    }\n",
       "\n",
       "    .dataframe tbody tr th {\n",
       "        vertical-align: top;\n",
       "    }\n",
       "\n",
       "    .dataframe thead th {\n",
       "        text-align: right;\n",
       "    }\n",
       "</style>\n",
       "<table border=\"1\" class=\"dataframe\">\n",
       "  <thead>\n",
       "    <tr style=\"text-align: right;\">\n",
       "      <th></th>\n",
       "      <th>Total</th>\n",
       "      <th>HP</th>\n",
       "      <th>Attack</th>\n",
       "      <th>Defense</th>\n",
       "      <th>Sp. Atk</th>\n",
       "      <th>Sp. Def</th>\n",
       "    </tr>\n",
       "  </thead>\n",
       "  <tbody>\n",
       "    <tr>\n",
       "      <th>0</th>\n",
       "      <td>318</td>\n",
       "      <td>45</td>\n",
       "      <td>49</td>\n",
       "      <td>49</td>\n",
       "      <td>65</td>\n",
       "      <td>65</td>\n",
       "    </tr>\n",
       "    <tr>\n",
       "      <th>1</th>\n",
       "      <td>405</td>\n",
       "      <td>60</td>\n",
       "      <td>62</td>\n",
       "      <td>63</td>\n",
       "      <td>80</td>\n",
       "      <td>80</td>\n",
       "    </tr>\n",
       "    <tr>\n",
       "      <th>2</th>\n",
       "      <td>525</td>\n",
       "      <td>80</td>\n",
       "      <td>82</td>\n",
       "      <td>83</td>\n",
       "      <td>100</td>\n",
       "      <td>100</td>\n",
       "    </tr>\n",
       "    <tr>\n",
       "      <th>3</th>\n",
       "      <td>625</td>\n",
       "      <td>80</td>\n",
       "      <td>100</td>\n",
       "      <td>123</td>\n",
       "      <td>122</td>\n",
       "      <td>120</td>\n",
       "    </tr>\n",
       "    <tr>\n",
       "      <th>4</th>\n",
       "      <td>309</td>\n",
       "      <td>39</td>\n",
       "      <td>52</td>\n",
       "      <td>43</td>\n",
       "      <td>60</td>\n",
       "      <td>50</td>\n",
       "    </tr>\n",
       "    <tr>\n",
       "      <th>...</th>\n",
       "      <td>...</td>\n",
       "      <td>...</td>\n",
       "      <td>...</td>\n",
       "      <td>...</td>\n",
       "      <td>...</td>\n",
       "      <td>...</td>\n",
       "    </tr>\n",
       "    <tr>\n",
       "      <th>795</th>\n",
       "      <td>600</td>\n",
       "      <td>50</td>\n",
       "      <td>100</td>\n",
       "      <td>150</td>\n",
       "      <td>100</td>\n",
       "      <td>150</td>\n",
       "    </tr>\n",
       "    <tr>\n",
       "      <th>796</th>\n",
       "      <td>700</td>\n",
       "      <td>50</td>\n",
       "      <td>160</td>\n",
       "      <td>110</td>\n",
       "      <td>160</td>\n",
       "      <td>110</td>\n",
       "    </tr>\n",
       "    <tr>\n",
       "      <th>797</th>\n",
       "      <td>600</td>\n",
       "      <td>80</td>\n",
       "      <td>110</td>\n",
       "      <td>60</td>\n",
       "      <td>150</td>\n",
       "      <td>130</td>\n",
       "    </tr>\n",
       "    <tr>\n",
       "      <th>798</th>\n",
       "      <td>680</td>\n",
       "      <td>80</td>\n",
       "      <td>160</td>\n",
       "      <td>60</td>\n",
       "      <td>170</td>\n",
       "      <td>130</td>\n",
       "    </tr>\n",
       "    <tr>\n",
       "      <th>799</th>\n",
       "      <td>600</td>\n",
       "      <td>80</td>\n",
       "      <td>110</td>\n",
       "      <td>120</td>\n",
       "      <td>130</td>\n",
       "      <td>90</td>\n",
       "    </tr>\n",
       "  </tbody>\n",
       "</table>\n",
       "<p>800 rows × 6 columns</p>\n",
       "</div>"
      ],
      "text/plain": [
       "     Total  HP  Attack  Defense  Sp. Atk  Sp. Def\n",
       "0      318  45      49       49       65       65\n",
       "1      405  60      62       63       80       80\n",
       "2      525  80      82       83      100      100\n",
       "3      625  80     100      123      122      120\n",
       "4      309  39      52       43       60       50\n",
       "..     ...  ..     ...      ...      ...      ...\n",
       "795    600  50     100      150      100      150\n",
       "796    700  50     160      110      160      110\n",
       "797    600  80     110       60      150      130\n",
       "798    680  80     160       60      170      130\n",
       "799    600  80     110      120      130       90\n",
       "\n",
       "[800 rows x 6 columns]"
      ]
     },
     "execution_count": 514,
     "metadata": {},
     "output_type": "execute_result"
    }
   ],
   "source": [
    "#all variables after this point will have the same name, just with an added \"1\". train->train1\n",
    "\n",
    "pks_subset1 = pks[[\"Total\",\"HP\", \"Attack\", \"Defense\", \"Sp. Atk\", \"Sp. Def\"]]\n",
    "\n",
    "pks_subset1"
   ]
  },
  {
   "cell_type": "code",
   "execution_count": 515,
   "id": "78fc1504",
   "metadata": {},
   "outputs": [
    {
     "name": "stderr",
     "output_type": "stream",
     "text": [
      "C:\\Users\\Obaid\\anaconda3\\lib\\site-packages\\ipykernel\\ipkernel.py:287: DeprecationWarning: `should_run_async` will not call `transform_cell` automatically in the future. Please pass the result to `transformed_cell` argument and any exception that happen during thetransform in `preprocessing_exc_tuple` in IPython 7.17 and above.\n",
      "  and should_run_async(code)\n"
     ]
    }
   ],
   "source": [
    "from sklearn.model_selection import train_test_split\n",
    "\n",
    "train1, test1 = train_test_split(pks_subset1, test_size=0.1)"
   ]
  },
  {
   "cell_type": "code",
   "execution_count": 516,
   "id": "774495c2",
   "metadata": {},
   "outputs": [
    {
     "data": {
      "text/plain": [
       "(720, 6)"
      ]
     },
     "execution_count": 516,
     "metadata": {},
     "output_type": "execute_result"
    }
   ],
   "source": [
    "train1.shape"
   ]
  },
  {
   "cell_type": "code",
   "execution_count": 517,
   "id": "7e1ca322",
   "metadata": {},
   "outputs": [
    {
     "data": {
      "text/plain": [
       "(80, 6)"
      ]
     },
     "execution_count": 517,
     "metadata": {},
     "output_type": "execute_result"
    }
   ],
   "source": [
    "test1.shape"
   ]
  },
  {
   "cell_type": "code",
   "execution_count": 518,
   "id": "4e34fb81",
   "metadata": {},
   "outputs": [],
   "source": [
    "#isolating the output column\n",
    "\n",
    "train1_X = train1.iloc[:, 1:6].values\n",
    "train1_y = train1.iloc[:, 0].values\n",
    "\n",
    "test1_X = test1.iloc[:, 1:6].values\n",
    "test1_y = test1.iloc[:, 0].values"
   ]
  },
  {
   "cell_type": "code",
   "execution_count": 519,
   "id": "7b6686a5",
   "metadata": {},
   "outputs": [
    {
     "data": {
      "text/plain": [
       "(720, 5)"
      ]
     },
     "execution_count": 519,
     "metadata": {},
     "output_type": "execute_result"
    }
   ],
   "source": [
    "train1_X.shape"
   ]
  },
  {
   "cell_type": "code",
   "execution_count": 520,
   "id": "e1d2cd42",
   "metadata": {},
   "outputs": [
    {
     "data": {
      "text/plain": [
       "(720,)"
      ]
     },
     "execution_count": 520,
     "metadata": {},
     "output_type": "execute_result"
    }
   ],
   "source": [
    "train1_y.shape"
   ]
  },
  {
   "cell_type": "code",
   "execution_count": 521,
   "id": "5f32cfc7",
   "metadata": {},
   "outputs": [
    {
     "data": {
      "text/plain": [
       "(80, 5)"
      ]
     },
     "execution_count": 521,
     "metadata": {},
     "output_type": "execute_result"
    }
   ],
   "source": [
    "test1_X.shape"
   ]
  },
  {
   "cell_type": "code",
   "execution_count": 522,
   "id": "e3e2eb11",
   "metadata": {},
   "outputs": [
    {
     "data": {
      "text/plain": [
       "(80,)"
      ]
     },
     "execution_count": 522,
     "metadata": {},
     "output_type": "execute_result"
    }
   ],
   "source": [
    "test1_y.shape"
   ]
  },
  {
   "cell_type": "code",
   "execution_count": 523,
   "id": "a56ad8dd",
   "metadata": {},
   "outputs": [],
   "source": [
    "from sklearn.linear_model import LinearRegression\n",
    "\n",
    "regModel1 = LinearRegression()"
   ]
  },
  {
   "cell_type": "code",
   "execution_count": 524,
   "id": "bc9ff04e",
   "metadata": {},
   "outputs": [
    {
     "data": {
      "text/plain": [
       "LinearRegression()"
      ]
     },
     "execution_count": 524,
     "metadata": {},
     "output_type": "execute_result"
    }
   ],
   "source": [
    "regModel1.fit(train1_X,train1_y)"
   ]
  },
  {
   "cell_type": "code",
   "execution_count": 525,
   "id": "c6ad6550",
   "metadata": {},
   "outputs": [
    {
     "name": "stderr",
     "output_type": "stream",
     "text": [
      "C:\\Users\\Obaid\\anaconda3\\lib\\site-packages\\ipykernel\\ipkernel.py:287: DeprecationWarning: `should_run_async` will not call `transform_cell` automatically in the future. Please pass the result to `transformed_cell` argument and any exception that happen during thetransform in `preprocessing_exc_tuple` in IPython 7.17 and above.\n",
      "  and should_run_async(code)\n"
     ]
    }
   ],
   "source": [
    "testSetPredictions1 = regModel1.predict(test1_X)"
   ]
  },
  {
   "cell_type": "code",
   "execution_count": 526,
   "id": "ce064963",
   "metadata": {},
   "outputs": [
    {
     "name": "stdout",
     "output_type": "stream",
     "text": [
      "Predicted total stats: [279.55535502 535.08693057 365.0829036  438.47397564 475.59444353\n",
      " 497.94859155 495.56259309 453.3382081  405.59051317 334.15119276\n",
      " 148.72571355 529.40549538 525.9350657  544.83733384 434.43822874\n",
      " 238.21554535 532.4459041  564.14514601 312.74170095 354.89923993\n",
      " 265.06066829 508.71201153 487.50796027 478.82099774 306.31388587\n",
      " 494.21867074 390.99363018 395.13353727 550.20917833 322.12401452\n",
      " 333.32743223 206.31234422 454.13978845 557.31558553 393.86128175\n",
      " 291.68732834 395.50561698 473.92445127 358.98276034 248.58825149\n",
      " 283.1356886  230.91449984 523.40312982 525.59526654 423.19265055\n",
      " 590.31377756 556.55219957 594.19522494 379.40343475 568.80642561\n",
      " 331.85882781 468.92484568 552.09723982 473.79138296 577.27296925\n",
      " 322.66906052 435.21086905 557.68364706 489.07625752 389.03033697\n",
      " 368.81396117 364.33261437 320.05078724 432.16548413 531.37997773\n",
      " 573.87944638 334.3203833  428.17392276 302.7550978  567.2688132\n",
      " 312.10058732 343.68115357 351.157598   272.7888757  294.6719717\n",
      " 364.66607949 434.40131459 281.58495499 324.08968908 523.18913418]\n",
      "Actual total stats: [273 590 348 450 480 500 520 455 390 305 200 518 580 535 425 270 540 590\n",
      " 300 320 265 485 498 498 309 500 405 395 580 305 314 205 460 580 405 320\n",
      " 405 535 350 262 275 220 490 500 413 580 567 600 362 580 330 480 515 455\n",
      " 600 315 460 515 480 413 430 350 292 450 580 600 360 495 300 600 320 335\n",
      " 350 281 288 365 418 330 308 525]\n"
     ]
    },
    {
     "name": "stderr",
     "output_type": "stream",
     "text": [
      "C:\\Users\\Obaid\\anaconda3\\lib\\site-packages\\ipykernel\\ipkernel.py:287: DeprecationWarning: `should_run_async` will not call `transform_cell` automatically in the future. Please pass the result to `transformed_cell` argument and any exception that happen during thetransform in `preprocessing_exc_tuple` in IPython 7.17 and above.\n",
      "  and should_run_async(code)\n"
     ]
    }
   ],
   "source": [
    "print(\"Predicted total stats: \" + str(testSetPredictions1))\n",
    "print(\"Actual total stats: \" + str(test1_y))"
   ]
  },
  {
   "cell_type": "code",
   "execution_count": 527,
   "id": "8e207918",
   "metadata": {},
   "outputs": [
    {
     "name": "stdout",
     "output_type": "stream",
     "text": [
      "Mean squared error: 24.56\n",
      "Coefficient of determination: 0.95\n"
     ]
    }
   ],
   "source": [
    "from sklearn.metrics import mean_squared_error, r2_score\n",
    "\n",
    "print('Mean squared error: %.2f'\n",
    "      % (mean_squared_error(test1_y, testSetPredictions1))**0.5)\n",
    "\n",
    "print('Coefficient of determination: %.2f'\n",
    "      % r2_score(test1_y, testSetPredictions1))"
   ]
  },
  {
   "cell_type": "code",
   "execution_count": null,
   "id": "e63b8648",
   "metadata": {},
   "outputs": [],
   "source": []
  },
  {
   "cell_type": "code",
   "execution_count": null,
   "id": "6ffc412f",
   "metadata": {},
   "outputs": [],
   "source": []
  }
 ],
 "metadata": {
  "kernelspec": {
   "display_name": "Python 3",
   "language": "python",
   "name": "python3"
  },
  "language_info": {
   "codemirror_mode": {
    "name": "ipython",
    "version": 3
   },
   "file_extension": ".py",
   "mimetype": "text/x-python",
   "name": "python",
   "nbconvert_exporter": "python",
   "pygments_lexer": "ipython3",
   "version": "3.8.8"
  }
 },
 "nbformat": 4,
 "nbformat_minor": 5
}
